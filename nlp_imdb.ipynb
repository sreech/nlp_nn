{
  "cells": [
    {
      "cell_type": "code",
      "execution_count": 55,
      "metadata": {
        "deletable": false,
        "editable": false,
        "id": "jjqUzwe969mu",
        "nbgrader": {
          "checksum": "62f7819e52083a254c81c2228bc31591",
          "grade": false,
          "grade_id": "cell-d5c13075b6763d8d",
          "locked": true,
          "schema_version": 1,
          "solution": false
        }
      },
      "outputs": [],
      "source": [
        "import pandas as pd\n",
        "import numpy as np\n",
        "import matplotlib.pyplot as plt\n",
        "\n",
        "import tensorflow as tf\n",
        "from tensorflow import keras\n",
        "from sklearn.feature_extraction.text import CountVectorizer\n",
        "\n",
        "tf.random.set_seed(42)"
      ]
    },
    {
      "cell_type": "markdown",
      "metadata": {
        "deletable": false,
        "editable": false,
        "id": "OI7tGV857bn0",
        "nbgrader": {
          "checksum": "3f83776f4e0ac502b9e769d736f6c41d",
          "grade": false,
          "grade_id": "cell-c794bfd6201853f8",
          "locked": true,
          "schema_version": 1,
          "solution": false
        }
      },
      "source": [
        "## IMDB movie reviews"
      ]
    },
    {
      "cell_type": "markdown",
      "metadata": {
        "deletable": false,
        "editable": false,
        "id": "TYaoGIaOpo2Z",
        "nbgrader": {
          "checksum": "a801dca45a23e220901889d822f5ebe6",
          "grade": false,
          "grade_id": "cell-fcfffc985f66b628",
          "locked": true,
          "schema_version": 1,
          "solution": false
        }
      },
      "source": [
        "## Retrieving and preparing the Data\n",
        "\n",
        "We will work with the IMDb movie reviews data."
      ]
    },
    {
      "cell_type": "code",
      "source": [
        "from google.colab import drive\n",
        "drive.mount('/content/drive')\n"
      ],
      "metadata": {
        "colab": {
          "base_uri": "https://localhost:8080/"
        },
        "id": "BzTgwGOEvn5c",
        "outputId": "1ce2dfdc-fc9a-4cf2-dabb-de1511a3fe13"
      },
      "execution_count": 56,
      "outputs": [
        {
          "output_type": "stream",
          "name": "stdout",
          "text": [
            "Drive already mounted at /content/drive; to attempt to forcibly remount, call drive.mount(\"/content/drive\", force_remount=True).\n"
          ]
        }
      ]
    },
    {
      "cell_type": "code",
      "execution_count": 57,
      "metadata": {
        "deletable": false,
        "nbgrader": {
          "checksum": "e8cf131872ebd7d8399460943470bbe2",
          "grade": false,
          "grade_id": "cell-20a04a21a94fc74e",
          "locked": false,
          "schema_version": 1,
          "solution": true
        },
        "id": "pgDOMDDGMH53"
      },
      "outputs": [],
      "source": [
        "# Read in the IMDB Dataset into \"data\". Do not set an index column\n",
        "\n",
        "# YOUR CODE HERE\n",
        "#raise NotImplementedError()\n",
        "data=pd.read_csv('/content/drive/MyDrive/IMDB Dataset.csv')\n"
      ]
    },
    {
      "cell_type": "code",
      "execution_count": null,
      "metadata": {
        "deletable": false,
        "editable": false,
        "nbgrader": {
          "checksum": "2ab187fcf006207c13e1220389ed1fb4",
          "grade": false,
          "grade_id": "cell-106c15bf7fc4e150",
          "locked": true,
          "schema_version": 1,
          "solution": false
        },
        "colab": {
          "base_uri": "https://localhost:8080/",
          "height": 206
        },
        "id": "AY8KkpMzMH53",
        "outputId": "bcbaa3a9-e76b-4164-9b94-79e813f899a9"
      },
      "outputs": [
        {
          "output_type": "execute_result",
          "data": {
            "text/plain": [
              "                                              review sentiment\n",
              "0  One of the other reviewers has mentioned that ...  positive\n",
              "1  A wonderful little production. <br /><br />The...  positive\n",
              "2  I thought this was a wonderful way to spend ti...  positive\n",
              "3  Basically there's a family where a little boy ...  negative\n",
              "4  Petter Mattei's \"Love in the Time of Money\" is...  positive"
            ],
            "text/html": [
              "\n",
              "  <div id=\"df-fb636acd-236a-42bc-b479-59a1af29799b\" class=\"colab-df-container\">\n",
              "    <div>\n",
              "<style scoped>\n",
              "    .dataframe tbody tr th:only-of-type {\n",
              "        vertical-align: middle;\n",
              "    }\n",
              "\n",
              "    .dataframe tbody tr th {\n",
              "        vertical-align: top;\n",
              "    }\n",
              "\n",
              "    .dataframe thead th {\n",
              "        text-align: right;\n",
              "    }\n",
              "</style>\n",
              "<table border=\"1\" class=\"dataframe\">\n",
              "  <thead>\n",
              "    <tr style=\"text-align: right;\">\n",
              "      <th></th>\n",
              "      <th>review</th>\n",
              "      <th>sentiment</th>\n",
              "    </tr>\n",
              "  </thead>\n",
              "  <tbody>\n",
              "    <tr>\n",
              "      <th>0</th>\n",
              "      <td>One of the other reviewers has mentioned that ...</td>\n",
              "      <td>positive</td>\n",
              "    </tr>\n",
              "    <tr>\n",
              "      <th>1</th>\n",
              "      <td>A wonderful little production. &lt;br /&gt;&lt;br /&gt;The...</td>\n",
              "      <td>positive</td>\n",
              "    </tr>\n",
              "    <tr>\n",
              "      <th>2</th>\n",
              "      <td>I thought this was a wonderful way to spend ti...</td>\n",
              "      <td>positive</td>\n",
              "    </tr>\n",
              "    <tr>\n",
              "      <th>3</th>\n",
              "      <td>Basically there's a family where a little boy ...</td>\n",
              "      <td>negative</td>\n",
              "    </tr>\n",
              "    <tr>\n",
              "      <th>4</th>\n",
              "      <td>Petter Mattei's \"Love in the Time of Money\" is...</td>\n",
              "      <td>positive</td>\n",
              "    </tr>\n",
              "  </tbody>\n",
              "</table>\n",
              "</div>\n",
              "    <div class=\"colab-df-buttons\">\n",
              "\n",
              "  <div class=\"colab-df-container\">\n",
              "    <button class=\"colab-df-convert\" onclick=\"convertToInteractive('df-fb636acd-236a-42bc-b479-59a1af29799b')\"\n",
              "            title=\"Convert this dataframe to an interactive table.\"\n",
              "            style=\"display:none;\">\n",
              "\n",
              "  <svg xmlns=\"http://www.w3.org/2000/svg\" height=\"24px\" viewBox=\"0 -960 960 960\">\n",
              "    <path d=\"M120-120v-720h720v720H120Zm60-500h600v-160H180v160Zm220 220h160v-160H400v160Zm0 220h160v-160H400v160ZM180-400h160v-160H180v160Zm440 0h160v-160H620v160ZM180-180h160v-160H180v160Zm440 0h160v-160H620v160Z\"/>\n",
              "  </svg>\n",
              "    </button>\n",
              "\n",
              "  <style>\n",
              "    .colab-df-container {\n",
              "      display:flex;\n",
              "      gap: 12px;\n",
              "    }\n",
              "\n",
              "    .colab-df-convert {\n",
              "      background-color: #E8F0FE;\n",
              "      border: none;\n",
              "      border-radius: 50%;\n",
              "      cursor: pointer;\n",
              "      display: none;\n",
              "      fill: #1967D2;\n",
              "      height: 32px;\n",
              "      padding: 0 0 0 0;\n",
              "      width: 32px;\n",
              "    }\n",
              "\n",
              "    .colab-df-convert:hover {\n",
              "      background-color: #E2EBFA;\n",
              "      box-shadow: 0px 1px 2px rgba(60, 64, 67, 0.3), 0px 1px 3px 1px rgba(60, 64, 67, 0.15);\n",
              "      fill: #174EA6;\n",
              "    }\n",
              "\n",
              "    .colab-df-buttons div {\n",
              "      margin-bottom: 4px;\n",
              "    }\n",
              "\n",
              "    [theme=dark] .colab-df-convert {\n",
              "      background-color: #3B4455;\n",
              "      fill: #D2E3FC;\n",
              "    }\n",
              "\n",
              "    [theme=dark] .colab-df-convert:hover {\n",
              "      background-color: #434B5C;\n",
              "      box-shadow: 0px 1px 3px 1px rgba(0, 0, 0, 0.15);\n",
              "      filter: drop-shadow(0px 1px 2px rgba(0, 0, 0, 0.3));\n",
              "      fill: #FFFFFF;\n",
              "    }\n",
              "  </style>\n",
              "\n",
              "    <script>\n",
              "      const buttonEl =\n",
              "        document.querySelector('#df-fb636acd-236a-42bc-b479-59a1af29799b button.colab-df-convert');\n",
              "      buttonEl.style.display =\n",
              "        google.colab.kernel.accessAllowed ? 'block' : 'none';\n",
              "\n",
              "      async function convertToInteractive(key) {\n",
              "        const element = document.querySelector('#df-fb636acd-236a-42bc-b479-59a1af29799b');\n",
              "        const dataTable =\n",
              "          await google.colab.kernel.invokeFunction('convertToInteractive',\n",
              "                                                    [key], {});\n",
              "        if (!dataTable) return;\n",
              "\n",
              "        const docLinkHtml = 'Like what you see? Visit the ' +\n",
              "          '<a target=\"_blank\" href=https://colab.research.google.com/notebooks/data_table.ipynb>data table notebook</a>'\n",
              "          + ' to learn more about interactive tables.';\n",
              "        element.innerHTML = '';\n",
              "        dataTable['output_type'] = 'display_data';\n",
              "        await google.colab.output.renderOutput(dataTable, element);\n",
              "        const docLink = document.createElement('div');\n",
              "        docLink.innerHTML = docLinkHtml;\n",
              "        element.appendChild(docLink);\n",
              "      }\n",
              "    </script>\n",
              "  </div>\n",
              "\n",
              "\n",
              "<div id=\"df-a17b0b5d-d4d7-4db8-a99e-d779c96b6bf4\">\n",
              "  <button class=\"colab-df-quickchart\" onclick=\"quickchart('df-a17b0b5d-d4d7-4db8-a99e-d779c96b6bf4')\"\n",
              "            title=\"Suggest charts\"\n",
              "            style=\"display:none;\">\n",
              "\n",
              "<svg xmlns=\"http://www.w3.org/2000/svg\" height=\"24px\"viewBox=\"0 0 24 24\"\n",
              "     width=\"24px\">\n",
              "    <g>\n",
              "        <path d=\"M19 3H5c-1.1 0-2 .9-2 2v14c0 1.1.9 2 2 2h14c1.1 0 2-.9 2-2V5c0-1.1-.9-2-2-2zM9 17H7v-7h2v7zm4 0h-2V7h2v10zm4 0h-2v-4h2v4z\"/>\n",
              "    </g>\n",
              "</svg>\n",
              "  </button>\n",
              "\n",
              "<style>\n",
              "  .colab-df-quickchart {\n",
              "      --bg-color: #E8F0FE;\n",
              "      --fill-color: #1967D2;\n",
              "      --hover-bg-color: #E2EBFA;\n",
              "      --hover-fill-color: #174EA6;\n",
              "      --disabled-fill-color: #AAA;\n",
              "      --disabled-bg-color: #DDD;\n",
              "  }\n",
              "\n",
              "  [theme=dark] .colab-df-quickchart {\n",
              "      --bg-color: #3B4455;\n",
              "      --fill-color: #D2E3FC;\n",
              "      --hover-bg-color: #434B5C;\n",
              "      --hover-fill-color: #FFFFFF;\n",
              "      --disabled-bg-color: #3B4455;\n",
              "      --disabled-fill-color: #666;\n",
              "  }\n",
              "\n",
              "  .colab-df-quickchart {\n",
              "    background-color: var(--bg-color);\n",
              "    border: none;\n",
              "    border-radius: 50%;\n",
              "    cursor: pointer;\n",
              "    display: none;\n",
              "    fill: var(--fill-color);\n",
              "    height: 32px;\n",
              "    padding: 0;\n",
              "    width: 32px;\n",
              "  }\n",
              "\n",
              "  .colab-df-quickchart:hover {\n",
              "    background-color: var(--hover-bg-color);\n",
              "    box-shadow: 0 1px 2px rgba(60, 64, 67, 0.3), 0 1px 3px 1px rgba(60, 64, 67, 0.15);\n",
              "    fill: var(--button-hover-fill-color);\n",
              "  }\n",
              "\n",
              "  .colab-df-quickchart-complete:disabled,\n",
              "  .colab-df-quickchart-complete:disabled:hover {\n",
              "    background-color: var(--disabled-bg-color);\n",
              "    fill: var(--disabled-fill-color);\n",
              "    box-shadow: none;\n",
              "  }\n",
              "\n",
              "  .colab-df-spinner {\n",
              "    border: 2px solid var(--fill-color);\n",
              "    border-color: transparent;\n",
              "    border-bottom-color: var(--fill-color);\n",
              "    animation:\n",
              "      spin 1s steps(1) infinite;\n",
              "  }\n",
              "\n",
              "  @keyframes spin {\n",
              "    0% {\n",
              "      border-color: transparent;\n",
              "      border-bottom-color: var(--fill-color);\n",
              "      border-left-color: var(--fill-color);\n",
              "    }\n",
              "    20% {\n",
              "      border-color: transparent;\n",
              "      border-left-color: var(--fill-color);\n",
              "      border-top-color: var(--fill-color);\n",
              "    }\n",
              "    30% {\n",
              "      border-color: transparent;\n",
              "      border-left-color: var(--fill-color);\n",
              "      border-top-color: var(--fill-color);\n",
              "      border-right-color: var(--fill-color);\n",
              "    }\n",
              "    40% {\n",
              "      border-color: transparent;\n",
              "      border-right-color: var(--fill-color);\n",
              "      border-top-color: var(--fill-color);\n",
              "    }\n",
              "    60% {\n",
              "      border-color: transparent;\n",
              "      border-right-color: var(--fill-color);\n",
              "    }\n",
              "    80% {\n",
              "      border-color: transparent;\n",
              "      border-right-color: var(--fill-color);\n",
              "      border-bottom-color: var(--fill-color);\n",
              "    }\n",
              "    90% {\n",
              "      border-color: transparent;\n",
              "      border-bottom-color: var(--fill-color);\n",
              "    }\n",
              "  }\n",
              "</style>\n",
              "\n",
              "  <script>\n",
              "    async function quickchart(key) {\n",
              "      const quickchartButtonEl =\n",
              "        document.querySelector('#' + key + ' button');\n",
              "      quickchartButtonEl.disabled = true;  // To prevent multiple clicks.\n",
              "      quickchartButtonEl.classList.add('colab-df-spinner');\n",
              "      try {\n",
              "        const charts = await google.colab.kernel.invokeFunction(\n",
              "            'suggestCharts', [key], {});\n",
              "      } catch (error) {\n",
              "        console.error('Error during call to suggestCharts:', error);\n",
              "      }\n",
              "      quickchartButtonEl.classList.remove('colab-df-spinner');\n",
              "      quickchartButtonEl.classList.add('colab-df-quickchart-complete');\n",
              "    }\n",
              "    (() => {\n",
              "      let quickchartButtonEl =\n",
              "        document.querySelector('#df-a17b0b5d-d4d7-4db8-a99e-d779c96b6bf4 button');\n",
              "      quickchartButtonEl.style.display =\n",
              "        google.colab.kernel.accessAllowed ? 'block' : 'none';\n",
              "    })();\n",
              "  </script>\n",
              "</div>\n",
              "\n",
              "    </div>\n",
              "  </div>\n"
            ],
            "application/vnd.google.colaboratory.intrinsic+json": {
              "type": "dataframe",
              "variable_name": "data",
              "summary": "{\n  \"name\": \"data\",\n  \"rows\": 49997,\n  \"fields\": [\n    {\n      \"column\": \"review\",\n      \"properties\": {\n        \"dtype\": \"string\",\n        \"num_unique_values\": 49579,\n        \"samples\": [\n          \"The United States was still fighting World War II (the movie was released in between VE day and VJ day). Any studio worth its salt was either making fighting movies where fearless American soldiers beat the enemy, or Americans in general were singing and dancing. Technicolor Musicals were what America thrived on in the depressing days when everything was rationed. Most musicals of the day were simply a bunch of musical numbers strung together with the best available plot slipped in to fill time til the next musical number! I get the feeling now that the people reviewing this movie were all born after 1970. Depressing how quickly we forget.<br /><br />This film could've been called \\\"The Search for Jose Iturbi\\\" but now everyone wonders why. Allow me to explain. From 1929--his arrival in America--until his death in 1980, Iturbi was one of the finest pianists to grace a concert stage. He agreed to do a few movies in 1942, but Hollywood had been after him for nearly a decade at that time. Not only an excellent pianist, but a successful conductor as well, Iturbi was very much a household word for more than 40 years. <br /><br />The scene where Iturbi and 17 other pianists play one of Liszt's Rhapsodies was planned early on--and hasn't anyone ever noticed the other pianists were all children? Joe Pasternak, who produced that movie & many other MGM musicals, credited Iturbi with interesting America's youth in classical music. Grayson's wanting an audition with Iturbi in the movie was not unlike real life at the time. Everyone wanted Iturbi back then. The joke among soldiers was that \\\"GI\\\" meant \\\"Get Iturbi\\\" (he did a lot of concerts at military bases).<br /><br />Gene Kelly was a great dancer and Frank Sinatra an excellent singer, but at the time this movie was made Sinatra was barely 30 and had only been under contract to Columbia Records for four years. Kelly was already well-known as a dancer, but Iturbi had by then been a world-wide sensation for 20+ years.<br /><br />And as to the lack of a plot, Americans didn't need plot. They were tired of war, they were sick with fear for their loved ones, and worried about the future. They needed happiness and hope and the assurance that things would work out fine in the end. They needed music and smiles and joy and romance. This movie and others like it delivered just what was needed.<br /><br />Enough lecturing. Mouse dancing aside, the best scene in the movie occurs between Sinatra and Iturbi with each of them \\\"ignorantly\\\" complimenting the other's music.<br /><br />If you have any interest in Jose Iturbi, the Spaniard who conquered more of America than De Soto, Cortez, and De Leon put together, please drop by my website, www.joseiturbi.com, where you can find a plot summary, excerpts from movie reviews \\\"of the day\\\" and pictures from this and certain other MGM musicals of the 1940's, as well as a biography and discography of Iturbi.<br /><br />Trout\",\n          \"All of you who despaired looking at the emptiness and weaknesses of Disney Studios' last productions, here comes something that should heal your wounds... Once and for all, A Bug's life brings the proof that purely synthetic pictures conducting a good scenario provides more interest than fake \\\"hand-made-old-Disneys-like\\\" drawings (see the Lion King, Pocahontas, and all the latest productions where you sadly regret that Bambi's magical background and atmosphere are gone forever).<br /><br />A bug's life (1001 Pattes for my fellow french cinemaniaks !) succeeds in avoiding all the imperfections that make you awaken in the middle of the movie and say \\\"Hey, this thing is computer generated !\\\". No weak parts, a tremendous effort showing its efficiency in the backgrounds and the general look of the sets, an astonishing 3D bird (close to perfection in its imitation of reality)... and that's only to mention the technical aspects.<br /><br />The scenario, my friends, the real backbone of a motion picture, has some thickness ! Curiously, and obviously thanks to Lasseter's team, there is practically no musical sequence in A bug's life. Which means the story is long and rich enough to free itself from these 3 or 4 minutes that some kids appreciate, but most others dislike (same thing for the parents or the anime fans, like me). This movie reminded me of a really old movie featuring Steve Martin and Chevy Chase : the 3 Amigos ; it had basically the same background story (a whole mexican village living in the fear of a few bad guys hires gunmen (who finally turn to be actors) to protect them, etc...). Simple, but efficient, and brilliantly adapted to a colony of frightened ants facing the wrath of vicious insects.<br /><br />Since Microcosmos, many movies tell tales of insects, their lives, fears and hopes, but I do think that A bug's life is the funniest and best directed of all. The humanisation process has been perfectly well achieved... And the whole audience was captivated by Flik's (aka Tilt in France) adventures.<br /><br />A big thank you for Lasseter's team, especially for the last 30 seconds... it's so strange and great at the same time to see a whole theater caught in laughter while the bugs/actors forget their lines or hit the camera...<br /><br />And finally, especially for those of you who have seen the french version, other congratulations go to the dubbing actors who made a great synchro work on this movie. A bug's life is a really good piece of entertainment, and I think it will soon become part of my collection of videos (a privilege granted to extremely few movies, and that's not a problem of storage room :). Go and see it, that's an order.\",\n          \"**Warning! Slight Plot Spoilers Ahead!**<br /><br />\\\"The Italian Job\\\" is not the best movie you'll see all year, or probably even this summer. But it is a worthwhile two hours because it colors within the lines, knowing its limits and not attempting to exceed them.<br /><br />What carries the movie is the work of the cast. In a movie about a crew of thieves, the individuals must have a good rapport with each other. Without that cohesive feel, the audience doesn't believe in the characters collectively or individually, and the movie never has a chance. But from the first scenes, in which the men joke around and rag on each other while infiltrating a Venetian palace, the proper chemistry is in place.<br /><br />The characters themselves aren't anything novel; they're your basic gang of criminals, containing about half a dozen players, each with a specific and defining skill. But each actor brings the proper goods to the table for his or her part. Mark Wahlberg's understated acting and humor fits well with his part as the mastermind planner. Edward Norton provides attitude and twirls his mustache well in his dark role. Donald Sutherland is the father figure of the crew, and he looks the part of the suave and old-fashioned thief, who is still mentally spry. Jason Statham, Seth Green, and Mos Def don't do much beyond their character's abilities, but they each nail those parts. Statham as the smooth-operating driver; Green as the tech whiz geek with a chip on his shoulder; and Def as the demolitions man. Charlize Theron slides in well in a part that doesn't ask too much of her. She is primarily asked to to drive fast and look good. That she does. None of the characters are that deep or three-dimensional, but in this familiar sort of movie, two dimensions are all that is required. <br /><br />As the title implies, the movie has a European feel to it, a la \\\"The Bourne Identity,\\\" in part because it was shot on location in Venice, along with Philadelphia and Los Angeles. Also contributing to the Euro flair is the rhythmic, bouncy music, which adds to the upbeat nature of the flick and complements the rapport of the cast. The look of the movie is also a perfect match. The bright colors of all locales enhance the mood and add to the attitude. The Minis not only provide a fun variation on the car chase, but also work as a necessary plot device. <br /><br />The plot is more or less straight-forward. There are a few surprises, but they are more of the swift-and-smooth-turn variety, as opposed to the drop-your-jaw hairpin curve. Even with those, the movie speeds along. Once the foundation is laid by the first act, everything continuously progresses. Thankfully there are no breaks in the action for a romance, something the movie wisely avoided. There aren't even any breaks for 'real life.' The story has its purpose and runs that course without distractions. The lack of character depth prevents \\\"The Italian Job\\\" from being more than a good popcorn movie, but with all the complex details of the heist-planning, such superfluities would have dragged down the pace and quality of the flick.<br /><br />There are a number of implausibilities that I thought of both during and after viewing. But the movie is so enjoyable that I didn't and don't care. In the real world, most of the movie probably couldn't have gone off that cleanly. But \\\"The Italian Job\\\" doesn't take place in the real world. It occurs in a stylish and light-hearted criminal world that appeals to the rebel in all of us. <br /><br />\\\"The Italian Job\\\" is a movie, in the true sense of the word. It has no pretenses of Oscar and contains no deep moral message. It provides pure escapism entertainment and does so quite well.<br /><br />Bottom Line: Maybe the best popcorn movie of the year so far. 7 of 10.\"\n        ],\n        \"semantic_type\": \"\",\n        \"description\": \"\"\n      }\n    },\n    {\n      \"column\": \"sentiment\",\n      \"properties\": {\n        \"dtype\": \"category\",\n        \"num_unique_values\": 2,\n        \"samples\": [\n          \"negative\",\n          \"positive\"\n        ],\n        \"semantic_type\": \"\",\n        \"description\": \"\"\n      }\n    }\n  ]\n}"
            }
          },
          "metadata": {},
          "execution_count": 7
        }
      ],
      "source": [
        "data.head()"
      ]
    },
    {
      "cell_type": "code",
      "execution_count": 58,
      "metadata": {
        "deletable": false,
        "nbgrader": {
          "checksum": "72caedc853058ef311a7d160aa7f0b9a",
          "grade": false,
          "grade_id": "cell-c5da00bb8d244d49",
          "locked": false,
          "schema_version": 1,
          "solution": true
        },
        "colab": {
          "base_uri": "https://localhost:8080/",
          "height": 206
        },
        "id": "g3CMMnC6MH53",
        "outputId": "f736bdce-8a9b-4c1d-90dd-977c6150c3f4"
      },
      "outputs": [
        {
          "output_type": "execute_result",
          "data": {
            "text/plain": [
              "                                              review  sentiment\n",
              "0  One of the other reviewers has mentioned that ...          1\n",
              "1  A wonderful little production. <br /><br />The...          1\n",
              "2  I thought this was a wonderful way to spend ti...          1\n",
              "3  Basically there's a family where a little boy ...          0\n",
              "4  Petter Mattei's \"Love in the Time of Money\" is...          1"
            ],
            "text/html": [
              "\n",
              "  <div id=\"df-a476bf64-fd13-4490-9f3f-631579b1b086\" class=\"colab-df-container\">\n",
              "    <div>\n",
              "<style scoped>\n",
              "    .dataframe tbody tr th:only-of-type {\n",
              "        vertical-align: middle;\n",
              "    }\n",
              "\n",
              "    .dataframe tbody tr th {\n",
              "        vertical-align: top;\n",
              "    }\n",
              "\n",
              "    .dataframe thead th {\n",
              "        text-align: right;\n",
              "    }\n",
              "</style>\n",
              "<table border=\"1\" class=\"dataframe\">\n",
              "  <thead>\n",
              "    <tr style=\"text-align: right;\">\n",
              "      <th></th>\n",
              "      <th>review</th>\n",
              "      <th>sentiment</th>\n",
              "    </tr>\n",
              "  </thead>\n",
              "  <tbody>\n",
              "    <tr>\n",
              "      <th>0</th>\n",
              "      <td>One of the other reviewers has mentioned that ...</td>\n",
              "      <td>1</td>\n",
              "    </tr>\n",
              "    <tr>\n",
              "      <th>1</th>\n",
              "      <td>A wonderful little production. &lt;br /&gt;&lt;br /&gt;The...</td>\n",
              "      <td>1</td>\n",
              "    </tr>\n",
              "    <tr>\n",
              "      <th>2</th>\n",
              "      <td>I thought this was a wonderful way to spend ti...</td>\n",
              "      <td>1</td>\n",
              "    </tr>\n",
              "    <tr>\n",
              "      <th>3</th>\n",
              "      <td>Basically there's a family where a little boy ...</td>\n",
              "      <td>0</td>\n",
              "    </tr>\n",
              "    <tr>\n",
              "      <th>4</th>\n",
              "      <td>Petter Mattei's \"Love in the Time of Money\" is...</td>\n",
              "      <td>1</td>\n",
              "    </tr>\n",
              "  </tbody>\n",
              "</table>\n",
              "</div>\n",
              "    <div class=\"colab-df-buttons\">\n",
              "\n",
              "  <div class=\"colab-df-container\">\n",
              "    <button class=\"colab-df-convert\" onclick=\"convertToInteractive('df-a476bf64-fd13-4490-9f3f-631579b1b086')\"\n",
              "            title=\"Convert this dataframe to an interactive table.\"\n",
              "            style=\"display:none;\">\n",
              "\n",
              "  <svg xmlns=\"http://www.w3.org/2000/svg\" height=\"24px\" viewBox=\"0 -960 960 960\">\n",
              "    <path d=\"M120-120v-720h720v720H120Zm60-500h600v-160H180v160Zm220 220h160v-160H400v160Zm0 220h160v-160H400v160ZM180-400h160v-160H180v160Zm440 0h160v-160H620v160ZM180-180h160v-160H180v160Zm440 0h160v-160H620v160Z\"/>\n",
              "  </svg>\n",
              "    </button>\n",
              "\n",
              "  <style>\n",
              "    .colab-df-container {\n",
              "      display:flex;\n",
              "      gap: 12px;\n",
              "    }\n",
              "\n",
              "    .colab-df-convert {\n",
              "      background-color: #E8F0FE;\n",
              "      border: none;\n",
              "      border-radius: 50%;\n",
              "      cursor: pointer;\n",
              "      display: none;\n",
              "      fill: #1967D2;\n",
              "      height: 32px;\n",
              "      padding: 0 0 0 0;\n",
              "      width: 32px;\n",
              "    }\n",
              "\n",
              "    .colab-df-convert:hover {\n",
              "      background-color: #E2EBFA;\n",
              "      box-shadow: 0px 1px 2px rgba(60, 64, 67, 0.3), 0px 1px 3px 1px rgba(60, 64, 67, 0.15);\n",
              "      fill: #174EA6;\n",
              "    }\n",
              "\n",
              "    .colab-df-buttons div {\n",
              "      margin-bottom: 4px;\n",
              "    }\n",
              "\n",
              "    [theme=dark] .colab-df-convert {\n",
              "      background-color: #3B4455;\n",
              "      fill: #D2E3FC;\n",
              "    }\n",
              "\n",
              "    [theme=dark] .colab-df-convert:hover {\n",
              "      background-color: #434B5C;\n",
              "      box-shadow: 0px 1px 3px 1px rgba(0, 0, 0, 0.15);\n",
              "      filter: drop-shadow(0px 1px 2px rgba(0, 0, 0, 0.3));\n",
              "      fill: #FFFFFF;\n",
              "    }\n",
              "  </style>\n",
              "\n",
              "    <script>\n",
              "      const buttonEl =\n",
              "        document.querySelector('#df-a476bf64-fd13-4490-9f3f-631579b1b086 button.colab-df-convert');\n",
              "      buttonEl.style.display =\n",
              "        google.colab.kernel.accessAllowed ? 'block' : 'none';\n",
              "\n",
              "      async function convertToInteractive(key) {\n",
              "        const element = document.querySelector('#df-a476bf64-fd13-4490-9f3f-631579b1b086');\n",
              "        const dataTable =\n",
              "          await google.colab.kernel.invokeFunction('convertToInteractive',\n",
              "                                                    [key], {});\n",
              "        if (!dataTable) return;\n",
              "\n",
              "        const docLinkHtml = 'Like what you see? Visit the ' +\n",
              "          '<a target=\"_blank\" href=https://colab.research.google.com/notebooks/data_table.ipynb>data table notebook</a>'\n",
              "          + ' to learn more about interactive tables.';\n",
              "        element.innerHTML = '';\n",
              "        dataTable['output_type'] = 'display_data';\n",
              "        await google.colab.output.renderOutput(dataTable, element);\n",
              "        const docLink = document.createElement('div');\n",
              "        docLink.innerHTML = docLinkHtml;\n",
              "        element.appendChild(docLink);\n",
              "      }\n",
              "    </script>\n",
              "  </div>\n",
              "\n",
              "\n",
              "<div id=\"df-fb8af911-3ace-47fd-a5e0-546352cb5cdc\">\n",
              "  <button class=\"colab-df-quickchart\" onclick=\"quickchart('df-fb8af911-3ace-47fd-a5e0-546352cb5cdc')\"\n",
              "            title=\"Suggest charts\"\n",
              "            style=\"display:none;\">\n",
              "\n",
              "<svg xmlns=\"http://www.w3.org/2000/svg\" height=\"24px\"viewBox=\"0 0 24 24\"\n",
              "     width=\"24px\">\n",
              "    <g>\n",
              "        <path d=\"M19 3H5c-1.1 0-2 .9-2 2v14c0 1.1.9 2 2 2h14c1.1 0 2-.9 2-2V5c0-1.1-.9-2-2-2zM9 17H7v-7h2v7zm4 0h-2V7h2v10zm4 0h-2v-4h2v4z\"/>\n",
              "    </g>\n",
              "</svg>\n",
              "  </button>\n",
              "\n",
              "<style>\n",
              "  .colab-df-quickchart {\n",
              "      --bg-color: #E8F0FE;\n",
              "      --fill-color: #1967D2;\n",
              "      --hover-bg-color: #E2EBFA;\n",
              "      --hover-fill-color: #174EA6;\n",
              "      --disabled-fill-color: #AAA;\n",
              "      --disabled-bg-color: #DDD;\n",
              "  }\n",
              "\n",
              "  [theme=dark] .colab-df-quickchart {\n",
              "      --bg-color: #3B4455;\n",
              "      --fill-color: #D2E3FC;\n",
              "      --hover-bg-color: #434B5C;\n",
              "      --hover-fill-color: #FFFFFF;\n",
              "      --disabled-bg-color: #3B4455;\n",
              "      --disabled-fill-color: #666;\n",
              "  }\n",
              "\n",
              "  .colab-df-quickchart {\n",
              "    background-color: var(--bg-color);\n",
              "    border: none;\n",
              "    border-radius: 50%;\n",
              "    cursor: pointer;\n",
              "    display: none;\n",
              "    fill: var(--fill-color);\n",
              "    height: 32px;\n",
              "    padding: 0;\n",
              "    width: 32px;\n",
              "  }\n",
              "\n",
              "  .colab-df-quickchart:hover {\n",
              "    background-color: var(--hover-bg-color);\n",
              "    box-shadow: 0 1px 2px rgba(60, 64, 67, 0.3), 0 1px 3px 1px rgba(60, 64, 67, 0.15);\n",
              "    fill: var(--button-hover-fill-color);\n",
              "  }\n",
              "\n",
              "  .colab-df-quickchart-complete:disabled,\n",
              "  .colab-df-quickchart-complete:disabled:hover {\n",
              "    background-color: var(--disabled-bg-color);\n",
              "    fill: var(--disabled-fill-color);\n",
              "    box-shadow: none;\n",
              "  }\n",
              "\n",
              "  .colab-df-spinner {\n",
              "    border: 2px solid var(--fill-color);\n",
              "    border-color: transparent;\n",
              "    border-bottom-color: var(--fill-color);\n",
              "    animation:\n",
              "      spin 1s steps(1) infinite;\n",
              "  }\n",
              "\n",
              "  @keyframes spin {\n",
              "    0% {\n",
              "      border-color: transparent;\n",
              "      border-bottom-color: var(--fill-color);\n",
              "      border-left-color: var(--fill-color);\n",
              "    }\n",
              "    20% {\n",
              "      border-color: transparent;\n",
              "      border-left-color: var(--fill-color);\n",
              "      border-top-color: var(--fill-color);\n",
              "    }\n",
              "    30% {\n",
              "      border-color: transparent;\n",
              "      border-left-color: var(--fill-color);\n",
              "      border-top-color: var(--fill-color);\n",
              "      border-right-color: var(--fill-color);\n",
              "    }\n",
              "    40% {\n",
              "      border-color: transparent;\n",
              "      border-right-color: var(--fill-color);\n",
              "      border-top-color: var(--fill-color);\n",
              "    }\n",
              "    60% {\n",
              "      border-color: transparent;\n",
              "      border-right-color: var(--fill-color);\n",
              "    }\n",
              "    80% {\n",
              "      border-color: transparent;\n",
              "      border-right-color: var(--fill-color);\n",
              "      border-bottom-color: var(--fill-color);\n",
              "    }\n",
              "    90% {\n",
              "      border-color: transparent;\n",
              "      border-bottom-color: var(--fill-color);\n",
              "    }\n",
              "  }\n",
              "</style>\n",
              "\n",
              "  <script>\n",
              "    async function quickchart(key) {\n",
              "      const quickchartButtonEl =\n",
              "        document.querySelector('#' + key + ' button');\n",
              "      quickchartButtonEl.disabled = true;  // To prevent multiple clicks.\n",
              "      quickchartButtonEl.classList.add('colab-df-spinner');\n",
              "      try {\n",
              "        const charts = await google.colab.kernel.invokeFunction(\n",
              "            'suggestCharts', [key], {});\n",
              "      } catch (error) {\n",
              "        console.error('Error during call to suggestCharts:', error);\n",
              "      }\n",
              "      quickchartButtonEl.classList.remove('colab-df-spinner');\n",
              "      quickchartButtonEl.classList.add('colab-df-quickchart-complete');\n",
              "    }\n",
              "    (() => {\n",
              "      let quickchartButtonEl =\n",
              "        document.querySelector('#df-fb8af911-3ace-47fd-a5e0-546352cb5cdc button');\n",
              "      quickchartButtonEl.style.display =\n",
              "        google.colab.kernel.accessAllowed ? 'block' : 'none';\n",
              "    })();\n",
              "  </script>\n",
              "</div>\n",
              "\n",
              "    </div>\n",
              "  </div>\n"
            ],
            "application/vnd.google.colaboratory.intrinsic+json": {
              "type": "dataframe",
              "summary": "{\n  \"name\": \"#raise NotImplementedError()\",\n  \"rows\": 5,\n  \"fields\": [\n    {\n      \"column\": \"review\",\n      \"properties\": {\n        \"dtype\": \"string\",\n        \"num_unique_values\": 5,\n        \"samples\": [\n          \"A wonderful little production. <br /><br />The filming technique is very unassuming- very old-time-BBC fashion and gives a comforting, and sometimes discomforting, sense of realism to the entire piece. <br /><br />The actors are extremely well chosen- Michael Sheen not only \\\"has got all the polari\\\" but he has all the voices down pat too! You can truly see the seamless editing guided by the references to Williams' diary entries, not only is it well worth the watching but it is a terrificly written and performed piece. A masterful production about one of the great master's of comedy and his life. <br /><br />The realism really comes home with the little things: the fantasy of the guard which, rather than use the traditional 'dream' techniques remains solid then disappears. It plays on our knowledge and our senses, particularly with the scenes concerning Orton and Halliwell and the sets (particularly of their flat with Halliwell's murals decorating every surface) are terribly well done.\",\n          \"Petter Mattei's \\\"Love in the Time of Money\\\" is a visually stunning film to watch. Mr. Mattei offers us a vivid portrait about human relations. This is a movie that seems to be telling us what money, power and success do to people in the different situations we encounter. <br /><br />This being a variation on the Arthur Schnitzler's play about the same theme, the director transfers the action to the present time New York where all these different characters meet and connect. Each one is connected in one way, or another to the next person, but no one seems to know the previous point of contact. Stylishly, the film has a sophisticated luxurious look. We are taken to see how these people live and the world they live in their own habitat.<br /><br />The only thing one gets out of all these souls in the picture is the different stages of loneliness each one inhabits. A big city is not exactly the best place in which human relations find sincere fulfillment, as one discerns is the case with most of the people we encounter.<br /><br />The acting is good under Mr. Mattei's direction. Steve Buscemi, Rosario Dawson, Carol Kane, Michael Imperioli, Adrian Grenier, and the rest of the talented cast, make these characters come alive.<br /><br />We wish Mr. Mattei good luck and await anxiously for his next work.\",\n          \"I thought this was a wonderful way to spend time on a too hot summer weekend, sitting in the air conditioned theater and watching a light-hearted comedy. The plot is simplistic, but the dialogue is witty and the characters are likable (even the well bread suspected serial killer). While some may be disappointed when they realize this is not Match Point 2: Risk Addiction, I thought it was proof that Woody Allen is still fully in control of the style many of us have grown to love.<br /><br />This was the most I'd laughed at one of Woody's comedies in years (dare I say a decade?). While I've never been impressed with Scarlet Johanson, in this she managed to tone down her \\\"sexy\\\" image and jumped right into a average, but spirited young woman.<br /><br />This may not be the crown jewel of his career, but it was wittier than \\\"Devil Wears Prada\\\" and more interesting than \\\"Superman\\\" a great comedy to go see with friends.\"\n        ],\n        \"semantic_type\": \"\",\n        \"description\": \"\"\n      }\n    },\n    {\n      \"column\": \"sentiment\",\n      \"properties\": {\n        \"dtype\": \"number\",\n        \"std\": 0,\n        \"min\": 0,\n        \"max\": 1,\n        \"num_unique_values\": 2,\n        \"samples\": [\n          0,\n          1\n        ],\n        \"semantic_type\": \"\",\n        \"description\": \"\"\n      }\n    }\n  ]\n}"
            }
          },
          "metadata": {},
          "execution_count": 58
        }
      ],
      "source": [
        "# Replace all \"negative\" and \"positive\" sentiment values with o and 1 respectively.\n",
        "# You can use a simple logical operator instead of label encodeing.\n",
        "data['sentiment']=data['sentiment'].replace({'positive':1,'negative':0})\n",
        "data.head()\n",
        "# YOUR CODE HERE\n",
        "#raise NotImplementedError()\n"
      ]
    },
    {
      "cell_type": "code",
      "execution_count": 59,
      "metadata": {
        "deletable": false,
        "nbgrader": {
          "checksum": "bf7d4c869d3b0584629fbf89a1aa00d2",
          "grade": false,
          "grade_id": "cell-fb60c3ad8cffa7d5",
          "locked": false,
          "schema_version": 1,
          "solution": true
        },
        "colab": {
          "base_uri": "https://localhost:8080/"
        },
        "id": "n7lKnpaHMH54",
        "outputId": "9d9928a0-0c0a-48f3-9f39-c61d2df6ae22"
      },
      "outputs": [
        {
          "output_type": "stream",
          "name": "stdout",
          "text": [
            "0    1\n",
            "1    1\n",
            "2    1\n",
            "3    0\n",
            "4    1\n",
            "5    1\n",
            "6    1\n",
            "7    0\n",
            "8    0\n",
            "9    1\n",
            "Name: sentiment, dtype: int64\n"
          ]
        }
      ],
      "source": [
        "# Get the dependent data and assign to y\n",
        "# YOUR CODE HERE\n",
        "#raise NotImplementedError()\n",
        "y=data.pop('sentiment')\n",
        "print(y[0:10])"
      ]
    },
    {
      "cell_type": "code",
      "execution_count": 60,
      "metadata": {
        "deletable": false,
        "nbgrader": {
          "checksum": "0edcaeb4d67e532613270d5df55b4acf",
          "grade": false,
          "grade_id": "cell-841ced4ea0dcaf2f",
          "locked": false,
          "schema_version": 1,
          "solution": true
        },
        "id": "wHi917JmMH54"
      },
      "outputs": [],
      "source": [
        "from sklearn.model_selection import train_test_split\n",
        "# Split the X data (data['review']) and y data into X_train, X_test, y_train, and y_test\n",
        "# With a test size of 0.2 and a random_state of 42\n",
        "# YOUR CODE HERE\n",
        "#raise NotImplementedError()\n",
        "X_train, X_test,y_train, y_test = train_test_split(data['review'],y, test_size=0.2, random_state=42)"
      ]
    },
    {
      "cell_type": "code",
      "execution_count": 61,
      "metadata": {
        "deletable": false,
        "editable": false,
        "id": "4RK7K2ZCqTb4",
        "nbgrader": {
          "checksum": "e3ab5d9602a766b48cce4d38187f6322",
          "grade": false,
          "grade_id": "cell-2744a959d2f8f369",
          "locked": true,
          "schema_version": 1,
          "solution": false
        },
        "colab": {
          "base_uri": "https://localhost:8080/"
        },
        "outputId": "c4649156-1064-4307-ed2f-381715626ef3"
      },
      "outputs": [
        {
          "output_type": "stream",
          "name": "stdout",
          "text": [
            "\n",
            "Train samples: 10000\n",
            "Test samples: 10000\n",
            "\n"
          ]
        }
      ],
      "source": [
        "print(f\"\"\"\n",
        "Train samples: {X_test.shape[0]}\n",
        "Test samples: {y_test.shape[0]}\n",
        "\"\"\"\n",
        ")"
      ]
    },
    {
      "cell_type": "code",
      "execution_count": null,
      "metadata": {
        "colab": {
          "base_uri": "https://localhost:8080/"
        },
        "deletable": false,
        "editable": false,
        "id": "wZtI-YRqTRrg",
        "nbgrader": {
          "checksum": "712aac7799944741784d78205b4c4d50",
          "grade": false,
          "grade_id": "cell-8b669b1b85e4f6aa",
          "locked": true,
          "schema_version": 1,
          "solution": false
        },
        "outputId": "bbe6e240-b862-478f-b62c-930c6cbbbf4c"
      },
      "outputs": [
        {
          "output_type": "execute_result",
          "data": {
            "text/plain": [
              "39084    0\n",
              "30892    0\n",
              "45275    1\n",
              "16398    1\n",
              "13653    1\n",
              "        ..\n",
              "11284    0\n",
              "44732    1\n",
              "38158    0\n",
              "860      1\n",
              "15795    1\n",
              "Name: sentiment, Length: 39997, dtype: int64"
            ]
          },
          "metadata": {},
          "execution_count": 12
        }
      ],
      "source": [
        "y_train"
      ]
    },
    {
      "cell_type": "markdown",
      "metadata": {
        "deletable": false,
        "editable": false,
        "id": "OzLguIWdeB-5",
        "nbgrader": {
          "checksum": "0b30a67f0a9a62fae89dd8d046c70438",
          "grade": false,
          "grade_id": "cell-8b95ac774030229c",
          "locked": true,
          "schema_version": 1,
          "solution": false
        }
      },
      "source": [
        "Inspect the frequence of each sentiment in the traning dataset (it is balanced!)"
      ]
    },
    {
      "cell_type": "code",
      "execution_count": 62,
      "metadata": {
        "colab": {
          "base_uri": "https://localhost:8080/"
        },
        "deletable": false,
        "id": "1dVkRgPIuneP",
        "nbgrader": {
          "checksum": "256c996847f61b8dc7c6e046d1198a9c",
          "grade": false,
          "grade_id": "cell-e3bd86db55a92c1b",
          "locked": false,
          "schema_version": 1,
          "solution": true
        },
        "outputId": "5e154e43-c8a0-4d64-9f6d-ce2ab0eb3a6f"
      },
      "outputs": [
        {
          "output_type": "stream",
          "name": "stdout",
          "text": [
            "review\n",
            "Loved today's show!!! It was a variety and not solely cooking (which would have been great too). Very stimulating and captivating, always keeping the viewer peeking around the corner to see what was coming up next. She is as down to earth and as personable as you get, like one of us which made the show all the more enjoyable. Special guests, who are friends as well made for a nice surprise too. Loved the 'first' theme and that the audience was invited to play along too. I must admit I was shocked to see her come in under her time limits on a few things, but she did it and by golly I'll be writing those recipes down. Saving time in the kitchen means more time with family. Those who haven't tuned in yet, find out what channel and the time, I assure you that you won't be disappointed.                                                                                                                                                                                                                                                                                                                                                                                                                                                                                                                                                                                                                                                                                                                                                                                                                                                                                                                                                                                                                                                                                                                                                                                                                                                                                                                                                                                                                                                                                                                                                                                                                                                                                                                                                                                                                                                                                                                                                                                                                                                                                                                                                                                                                                                                                                                                                                                                                                                                                                                                                                                                                                                                                                                                                                                                                                                                                                                                                                                                                                                                                                                                                                                                                                                                                                                                                                                                                                                                                                                                                                                                                                                                                                                                                                                                                                                                                                                                                                                                                                                                                                                                                                                                                                                                                                                                                                                                                                                                                                                                                                                                                                                                                                                                                                                                                                      5\n",
            "I see that C. Thomas Howell has appeared in many movies since his heyday in the 80s as an accomplished young actor.<br /><br />I bought this DVD because it was cheap and in part for the internet-related plot and to see how much older C. Thomas Howell is; I do not recall seeing him in any movies since the 1980s.<br /><br />In just a few words: what a very big disappointment. I give some low budget movies a chance, but this one started out lame. Within the first 15 minutes of the movie, this elusive woman is chatting with an Asian guy in a chatroom. They basically stimulate themselves to their own chat, she then insists on meeting the participant in person. She meets him, has sex, ties him up and then murders him in cold blood. The plot then deteriorates further.<br /><br />The plot is thin and flimsy and the acting is very stiff. Do not bother renting it much less purchasing it, even if it is in the $1 DVD bin. I plan to take my copy of the DVD to Goodwill. I am truly amazed that any of the prior reviewers here gave this movie a bad rating.                                                                                                                                                                                                                                                                                                                                                                                                                                                                                                                                                                                                                                                                                                                                                                                                                                                                                                                                                                                                                                                                                                                                                                                                                                                                                                                                                                                                                                                                                                                                                                                                                                                                                                                                                                                                                                                                                                                                                                                                                                                                                                                                                                                                                                                                                                                                                                                                                                                                                                                                                                                                                                                                                                                                                                                                                                                                                                                                                                                                                                                                                                                                                                                                                                                                                                                                                                                                                                                                                                                                                                                                                                                                                                                                                                                                                                                                                                                                                                                                                                                                                                                                                                                                                                                                                                                                                                                                                                                                                                                                                               3\n",
            "Robert Jordan is a television star. Robert Jordan likes things orderly, on time and properly executed. In his world children are to be seen, not heard. So why would Mr. Jordan want to become the master of a rambunctious band of Boy Scouts? Ratings. His staff figures that if learns how to interact with the youth, they will be more inclined to watch his show. Of course watching Jordan cope comprises most of the fun.<br /><br />Like Mr. Belvedere and Mr. Belvedere Goes to College this one is sure to please.<br /><br />ANYONE INTERESTED IN OBTAINING A COPY OF THIS FILM PLEASE WRITE TO ME AT: IAMASEAL2@YAHOO.COM                                                                                                                                                                                                                                                                                                                                                                                                                                                                                                                                                                                                                                                                                                                                                                                                                                                                                                                                                                                                                                                                                                                                                                                                                                                                                                                                                                                                                                                                                                                                                                                                                                                                                                                                                                                                                                                                                                                                                                                                                                                                                                                                                                                                                                                                                                                                                                                                                                                                                                                                                                                                                                                                                                                                                                                                                                                                                                                                                                                                                                                                                                                                                                                                                                                                                                                                                                                                                                                                                                                                                                                                                                                                                                                                                                                                                                                                                                                                                                                                                                                                                                                                                                                                                                                                                                                                                                                                                                                                                                                                                                                                                                                                                                                                                                                                                                                                                                                                                                                                                        3\n",
            "Nickelodeon has gone down the toilet. They have kids saying things like \"Oh my God!\" and \"We're screwed\"<br /><br />This show promotes hate for people who aren't good looking, or aren't in the in crowd. It say that sexual promiscuity is alright, by having girls slobbering over shirtless boys. Not to mention the overweight boy who takes off his shirt. The main characters basically shun anyone out of the ordinary. Carly's friend Sam, who may be a lesbian, beats the snot out of anybody that crosses her path, which says it's alright to be a b**ch. This show has so much negativity in it that nobody should watch it! I give it a 0 out of 10!!!                                                                                                                                                                                                                                                                                                                                                                                                                                                                                                                                                                                                                                                                                                                                                                                                                                                                                                                                                                                                                                                                                                                                                                                                                                                                                                                                                                                                                                                                                                                                                                                                                                                                                                                                                                                                                                                                                                                                                                                                                                                                                                                                                                                                                                                                                                                                                                                                                                                                                                                                                                                                                                                                                                                                                                                                                                                                                                                                                                                                                                                                                                                                                                                                                                                                                                                                                                                                                                                                                                                                                                                                                                                                                                                                                                                                                                                                                                                                                                                                                                                                                                                                                                                                                                                                                                                                                                                                                                                                                                                                                                                                                                                                                                                                                                                                                                                                                                                                                                                          3\n",
            "Hilarious, clean, light-hearted, and quote-worthy. What else can you ask for in a film? This is my all-time, number one favorite movie. Ever since I was a little girl, I've dreamed of owning a blue van with flames and an observation bubble.<br /><br />The cliché characters in ridiculous situations are what make this film such great fun. The wonderful comedic chemistry between Stephen Furst (Harold) and Andy Tennant (Melio) make up most of my favorite parts of the movie. And who didn't love the hopeless awkwardness of Flynch? Don't forget the airport antics of Leon's cronies, dressed up as Hari Krishnas: dancing, chanting and playing the tambourine--unbeatable! The clues are genius, the locations are classic, and the plot is timeless.<br /><br />A word to the wise, if you didn't watch this film when you were little, it probably won't win a place in your heart today. But nevertheless give it a chance, you may find that \"It doesn't matter what you say, it doesn't matter what you do, you've gotta play.\"                                                                                                                                                                                                                                                                                                                                                                                                                                                                                                                                                                                                                                                                                                                                                                                                                                                                                                                                                                                                                                                                                                                                                                                                                                                                                                                                                                                                                                                                                                                                                                                                                                                                                                                                                                                                                                                                                                                                                                                                                                                                                                                                                                                                                                                                                                                                                                                                                                                                                                                                                                                                                                                                                                                                                                                                                                                                                                                                                                                                                                                                                                                                                                                                                                                                                                                                                                                                                                                                                                                                                                                                                                                                                                                                                                                                                                                                                                                                                                                                                                                                                                                                                                                                                                                                                                                                                                                                                                                                                                                                                                                                        3\n",
            "                                                                                                                                                                                                                                                                                                                                                                                                                                                                                                                                                                                                                                                                                                                                                                                                                                                                                                                                                                                                                                                                                                                                                                                                                                                                                                                                                                                                                                                                                                                                                                                                                                                                                                                                                                                                                                                                                                                                                                                                                                                                                                                                                                                                                                                                                                                                                                                                                                                                                                                                                                                                                                                                                                                                                                                                                                                                                                                                                                                                                                                                                                                                                                                                                                                                                                                                                                                                                                                                                                                                                                                                                                                                                                                                                                                                                                                                                                                                                                                                                                                                                                                                                                                                                                                                                                                                                                                                                                                                                                                                                                                                                                                                                                                                                                                                                                                                                                                                                                                                                                                                                                                                                                                                                                                                                                                                                                                                                                                                                                                                                                                                                                                             ..\n",
            "This entry doesn't contain a spoiler. It doesn't have to. The movie is as predictable as the sunrise. The element in the first Alien movies was the suspense that something COULD happen. This was so in the first two Predator movies, though less prevalent. Requiem has totally removed the element of suspense and replaced it with blood and gore. You know people are going to die (well duh, it is a AvsP movie), but you know WHO is going to die and WHEN they are going to die, AND WHERE they are going to die before it happens. The directors should take a lesson from Hitchcock who said, \"Suspense is not a time bomb going off under a table. Suspense is a bomb NOT going off under the table\". What's the sense in going to a movie when you know exactly what is going to happen and when? If you really, really want to watch this movie, wait until it comes out on video and then RENT IT, but by no means would I ever buy it.                                                                                                                                                                                                                                                                                                                                                                                                                                                                                                                                                                                                                                                                                                                                                                                                                                                                                                                                                                                                                                                                                                                                                                                                                                                                                                                                                                                                                                                                                                                                                                                                                                                                                                                                                                                                                                                                                                                                                                                                                                                                                                                                                                                                                                                                                                                                                                                                                                                                                                                                                                                                                                                                                                                                                                                                                                                                                                                                                                                                                                                                                                                                                                                                                                                                                                                                                                                                                                                                                                                                                                                                                                                                                                                                                                                                                                                                                                                                                                                                                                                                                                                                                                                                                                                                                                                                                                                                                                                                                                                                                                                                                                                                                                        1\n",
            "I voted 8 for this movie because of some minor childish flaws. Other than that, this movie is one of my favorites! It's entertaining to say the least. The shooting scenes are ridiculous though, and I think Gackt (who wrote the book) takes a little bit too much of his \"Matrix obsession\" into it. It seems like their enemies just stands there...waiting to get shot at. However, this movie is touching and it always makes me cry. It has a lot of GREAT humor in it so it makes me laugh as well. Gackt is a superb actor I must say..he shows so much emotion. This was Hyde's first time acting and he did okay. The role fits him. Wang Lee Hom is absolutely great. The whole cast is what I would say, perfect for this movie. DON'T MISS IT! YOU'LL REGRET IT!                                                                                                                                                                                                                                                                                                                                                                                                                                                                                                                                                                                                                                                                                                                                                                                                                                                                                                                                                                                                                                                                                                                                                                                                                                                                                                                                                                                                                                                                                                                                                                                                                                                                                                                                                                                                                                                                                                                                                                                                                                                                                                                                                                                                                                                                                                                                                                                                                                                                                                                                                                                                                                                                                                                                                                                                                                                                                                                                                                                                                                                                                                                                                                                                                                                                                                                                                                                                                                                                                                                                                                                                                                                                                                                                                                                                                                                                                                                                                                                                                                                                                                                                                                                                                                                                                                                                                                                                                                                                                                                                                                                                                                                                                                                                                                                                                                                                                1\n",
            "Someone on these Boards has predicated that the whole thing is being dreamed by the best friend of the protagonist, albeit a friend he hasn't seen for some 20 years. I'm reluctant to dismiss this out of hand but it does raise some viable questions. Why WOULD a telephone engineer - or a shoe salesman or butcher for that matter - WANT to create a mythical world and weave it around a friend populating it in the process with a set of equally mythical supporting characters. With an imagination that good the friend should be WRITING not Dreaming. Dream or not SOMEONE, and the obvious candidate is director Paolo Sorrentino, has created a very watchable world in which Tony Servillo makes stillness a Fine Art. We are asked to believe that forty-something Titta La Girolomo (Servillo) 'upset' the Mafia some years prior to our meeting him and as penance he is a virtual prisoner in a small Swiss hotel from which each week he drives to a local bank with a suitcase containing nine mill large in used notes. Other than this weekly trip he is free to do as he likes and what he likes to do is smoke, play cards with a man who cheats and a wife who reminds the husband how far they have fallen socially, and ignore the friendly overtures of Olivia Magnani, who has spent two years trying to get a smile and/or a 'good evening' out of him. For reasons best known to himself and which are inconsistent with a man who has no interest in anything or anyone, Servillo spends a certain amount of time every day applying a stethoscope to the wall of his bedroom and listening to the private conversations of his card-playing partners. Eventually he does respond to Magnani - he has to do so or they would be no film. This is plot 6f: the one about Destry, who never wears a gun, or Sean (Duke Wayne), the 'Quiet Man' who refuses to rise to provocation and fight until the obligatory scene where the gun is strapped on and the fists cocked - but instead of contenting himself with a polite come stai oggi he removes 100,000 from the suitcase and buys her a car. The final inconsistency occurs when Magnani tells him she will pick him up the following day at 4 pm in her car and they will drive into the mountains to celebrate his birthday. We've established that she lives locally so why she is then seen driving from somewhere miles away, ignoring a police roadblock to drive off the road and overturn the car is anyone's guess. This inconsistencies apart this remains a fine piece of film-making with an excellent lead performance and a very good supporting one.                                                                                                                                                                                                                                                                                                                                                                                                                                                                                                                                                                                                                                                                                                                                                                                                                                                                                                                                                                                                                                                                                                                                                                                                                                                                                                                                                                                                                                                                                                                                                                                                                                                                                                                                                                                                                                                                                                                                                                                                                                                                                                                                                                                                                                                                                                                                                                                                                                                                                                                                                                                                                                                                                                                                                                                                                                                                                                                                                                                                     1\n",
            "I never trust the opinions of anyone regarding a film. That goes for critics as well. Sure, if it gets positive reviews that's OK and a plus, but most films that get critical rave I hate. I enjoyed this film for what it was, an entertaining film. It takes you out of your life for a couple hours and into a fictional character...that being Catherine Trammell. Sharon Stone is awesome in this role, just like she was in the first one. Anyone who says she is horrible in this film must have felt the same in the first one b/c she is back acting the same way she did in Basic Instinct 1. Catherine is hers and she plays her to perfection. Her one liners are great, much like in the first one. Who can forget in the first film when she tells the cops, \"If you're gonna arrest me do it...otherwise get the f**k out of here!\" Great scene, and believe me, she does it again in this one. I was captivated by her. Her outfits, the way she smoked her cigarettes, believe me, its worth the price just to see Stone's performance. I cannot wait for this film to be released on DVD, uncut, because I can only imagine how much better it is going to be. And yes, there are lots of twists, as in the first one, including the ending!                                                                                                                                                                                                                                                                                                                                                                                                                                                                                                                                                                                                                                                                                                                                                                                                                                                                                                                                                                                                                                                                                                                                                                                                                                                                                                                                                                                                                                                                                                                                                                                                                                                                                                                                                                                                                                                                                                                                                                                                                                                                                                                                                                                                                                                                                                                                                                                                                                                                                                                                                                                                                                                                                                                                                                                                                                                                                                                                                                                                                                                                                                                                                                                                                                                                                                                                                                                                                                                                                                                                                                                                                                                                                                                                                                                                                                                                                                                                                                                                                                                                                                                                                                                                                                                                                                                                                                                               1\n",
            "As a rule, there are few things more dispiriting than Hollywood's attempts to be courageous. Mixing caution with heavy-handedness, \"message movies\" pat themselves loudly on the back for daring to tackle major problems. CROSSFIRE is not entirely free from this taint; it includes a sermon on the nature of senseless hatred that is embarrassingly obvious, assuming a level of naivity in its audience that's depressing to contemplate. As late as 1947, it was a big deal for a movie to announce that anti-Semitism existed, and that it was bad. (It was unthinkable, of course, for Hollywood to address the real subject of the book on which the movie was basedits victim was a homosexual.) Nevertheless, thanks to good writing and excellent acting, CROSSFIRE remains a persuasive examination of what we would now call a hate crime.<br /><br />Postwar malaise was one of the major components of film noir, and CROSSFIRE addresses it directly. The film is set in Washington, D.C. among soldiers still in uniform but idle, spending their days playing poker and bar-crawling. Joseph Samuels (Sam Levene), an intelligent and kindly Jew, explains that the end of the war has created a void: all the energy that went into hating and fighting the enemy is now unfocused and bottled up. Samuels meets three soldiers in a bar: the sensitive Mitchell, who is close to a nervous breakdown, the weak-willed Floyd Bowers, and Montgomery, a tall, overbearing bully who nastily belittles a young soldier from Tennessee as a stupid hillbilly. The three soldiers wind up at Samuels' apartment, where the drunken Monty becomes increasingly abusive, calling his host \"Jew-boy.\" Samuels is beaten to death, and Mitchell disappears, making himself the prime suspect for the killing.<br /><br />Unraveling the crime are Detective Finlay (Robert Young), dry and by-the-book, and Sergeant Keeley (Robert Mitchum), a thoughtful and experienced friend who knows Mitchell is incapable of murder. Among the pieces of the puzzle are Ginny (Gloria Grahame), a nightclub hostess who met Mitchell and gave him her apartment key, and Floyd (Steve Brodie), who as a witness to the crime holes up terrified in a seedy rooming house. While there is no real \"whodunit\" suspense, the story remains gripping, and the trap laid for the killer is extremely clever.<br /><br />The strong noir atmosphere saves the movie from feeling didactic or sanctimonious. The cinematography is a striking shadow-play, with inky darks and harsh lights, rooms often lit by a single lamp filtered by cigarette smoke. World-weariness is as pervasive as noir lighting. \"Nothing interests me,\" Finlay says quietly; \"To nothing,\" is Ginny's toast in the nightclub. Gloria Grahame, the paragon of noir femininity, nearly steals the movie with her two scenes. Platinum-blonde, jaded and caustic, she's the quintessential B-girl, poisoned by the \"stinking gin mill\" where she works (\"for laughs,\" she says bitterly), her sweet face curdling when Mitchell tells her that she reminds him of his wife. Now and then a wistful kindness peeks through her defensive shell, as when she dances with Mitchell in a deserted courtyard, then offers to cook him spaghetti at her apartment. When he goes there, he meets a weasely, crumple-faced man (Paul Kelly) who seems to sponge off Ginny, and whose conversation is a dense layering of lies and false confessions. Gloria blows Mitchell's good-girl wife off the screen in a scene where she's asked to give Mitchell an alibi. Slim and frail in her bathrobe, with her girlish lisp, she lets us see just how often Ginny has been insulted and dismissed as a tramp.<br /><br />Robert Young is a nondescript actor, and he stands no chance against Mitchum's charisma, but he does a good job of keeping his pipe-smoking character, saddled with delivering the movie's earnest message, this side of pompousness. Mitchum, meanwhile, gets some cool dialogue, but not nearly enough to do; still, even when he's doing nothing but lounging in a corner you can't take your eyes off him. The third Robert, Ryan, creates a fully shaded and frighteningly convincing portrait of an ignorant, unstable bigot; we see his phony geniality, his bullying, his resentment of anyone with advantages, his \"Am I right or am I right?\" smugness; how easily he slaps labels on people and what satisfaction he gets from despising them.<br /><br />CROSSFIRE's message seems cautious and dated now, though not nearly so much as the same year's A GENTLEMAN'S AGREEMENT. Finlay's speech about bigotry cops out by reaching back a hundred years for an instance of white victimhood, reminding us that Irish Catholics were once persecuted; next it could be people from Tennessee, he says, or men who wear striped neckties. Or maybe blacks, or Japanese, or homosexuals, or communists? The script seems afraid to mention any real contemporary problems. It sweetens its message by making the Jewish victim saintly, as though his innocence were not sufficient; and it takes care to exonerate the military, having a superior officer declare that the army is ashamed of men like Montgomery, and stressing that Samuels served honorably in the war. Still, it did take some guts to depict, immediately after World War II, an American who might have been happier in the Nazi army, and the movie's basic premise is still valid. If Monty were alive today, he would have gone out on September 12, 2001, and beat up a Sikh.    1\n",
            "Name: count, Length: 39708, dtype: int64\n"
          ]
        }
      ],
      "source": [
        "# Calculate the training data's frequency and assign the output to \"frequency\"\n",
        "\n",
        "# YOUR CODE HERE\n",
        "#raise NotImplementedError()\n",
        "frequency = X_train.value_counts()\n",
        "print(frequency)"
      ]
    },
    {
      "cell_type": "code",
      "execution_count": 63,
      "metadata": {
        "deletable": false,
        "id": "sia5LebDeuDM",
        "nbgrader": {
          "checksum": "3696f28f069bdf94d5ca55a10f13b6f5",
          "grade": false,
          "grade_id": "cell-d9c0261312c36fad",
          "locked": false,
          "schema_version": 1,
          "solution": true
        }
      },
      "outputs": [],
      "source": [
        "# Let's turn the target into a dummy vector\n",
        "\n",
        "# YOUR CODE HERE\n",
        "#raise NotImplementedError()\n",
        "y_train = pd.get_dummies(y_train).to_numpy()\n",
        "y_test = pd.get_dummies(y_test).to_numpy()"
      ]
    },
    {
      "cell_type": "code",
      "execution_count": null,
      "metadata": {
        "deletable": false,
        "editable": false,
        "nbgrader": {
          "checksum": "4d6cc03e20ea5c8a9ed9e4dd65cb22c9",
          "grade": false,
          "grade_id": "cell-12af49dffe46d4f2",
          "locked": true,
          "schema_version": 1,
          "solution": false
        },
        "id": "MI2hSBDSMH56",
        "outputId": "7014f9e0-00b0-4e37-bb65-46b9eb483b80"
      },
      "outputs": [
        {
          "data": {
            "text/plain": [
              "(40000, 2)"
            ]
          },
          "execution_count": 50,
          "metadata": {},
          "output_type": "execute_result"
        }
      ],
      "source": [
        "y_train.shape"
      ]
    },
    {
      "cell_type": "markdown",
      "metadata": {
        "deletable": false,
        "editable": false,
        "id": "p4ktfnOWeX-x",
        "nbgrader": {
          "checksum": "53482d2ab677e371636a3b13c495a694",
          "grade": false,
          "grade_id": "cell-8fdd5bd24c5b1aa8",
          "locked": true,
          "schema_version": 1,
          "solution": false
        }
      },
      "source": [
        "## Unigram Multi-hot Encoding Baseline\n",
        "\n",
        "Next, let us see the performance of a neural net that is trained from the scratch using multi-hot encoding."
      ]
    },
    {
      "cell_type": "code",
      "execution_count": 64,
      "metadata": {
        "deletable": false,
        "id": "h48xnYwyXLWK",
        "nbgrader": {
          "checksum": "7f66cef5156075bb4fe7dc9d70a97df0",
          "grade": false,
          "grade_id": "cell-e9277fc1e87a127a",
          "locked": false,
          "schema_version": 1,
          "solution": true
        }
      },
      "outputs": [],
      "source": [
        "# Set the maximum number of tokens to 2412.\n",
        "# Also set up our Text Vectorization layer using multi-hot encoding\n",
        "\n",
        "# YOUR CODE HERE\n",
        "#raise NotImplementedError()\n",
        "max_tokens = 2412\n",
        "text_vectorization = keras.layers.TextVectorization(\n",
        "    max_tokens=max_tokens,\n",
        "    output_mode=\"multi_hot\")"
      ]
    },
    {
      "cell_type": "code",
      "execution_count": 65,
      "metadata": {
        "deletable": false,
        "nbgrader": {
          "checksum": "1cfb54eadaf4db959ada980f108ab13a",
          "grade": false,
          "grade_id": "cell-d866880efca5c5ba",
          "locked": false,
          "schema_version": 1,
          "solution": true
        },
        "id": "FH0p136iMH56"
      },
      "outputs": [],
      "source": [
        "# The vocabulary that will be indexed is given by the text corpus on our train dataset\n",
        "# YOUR CODE HERE\n",
        "#raise NotImplementedError()\n",
        "text_vectorization.adapt(X_train)"
      ]
    },
    {
      "cell_type": "code",
      "execution_count": 66,
      "metadata": {
        "deletable": false,
        "id": "jO96Ho9WXVtb",
        "nbgrader": {
          "checksum": "c6cf40ac2eac47ef2c41e0a33e7046c6",
          "grade": false,
          "grade_id": "cell-8173b8e7c6ffe8a9",
          "locked": false,
          "schema_version": 1,
          "solution": true
        }
      },
      "outputs": [],
      "source": [
        "# We vectorize our input\n",
        "# YOUR CODE HERE\n",
        "#raise NotImplementedError()\n",
        "X_train=text_vectorization(X_train)\n",
        "X_test=text_vectorization(X_test)\n"
      ]
    },
    {
      "cell_type": "code",
      "execution_count": 67,
      "metadata": {
        "deletable": false,
        "nbgrader": {
          "checksum": "366225b8fe209f21675f420d258e870a",
          "grade": false,
          "grade_id": "cell-d039bb02c0b80a1a",
          "locked": false,
          "schema_version": 1,
          "solution": true
        },
        "colab": {
          "base_uri": "https://localhost:8080/"
        },
        "id": "iN_1agCjMH57",
        "outputId": "3095b8ea-d13c-47d1-d8d3-ce88b29b5d08"
      },
      "outputs": [
        {
          "output_type": "stream",
          "name": "stdout",
          "text": [
            "Model: \"model_2\"\n",
            "_________________________________________________________________\n",
            " Layer (type)                Output Shape              Param #   \n",
            "=================================================================\n",
            " input_3 (InputLayer)        [(None, 2412)]            0         \n",
            "                                                                 \n",
            " dense_4 (Dense)             (None, 32)                77216     \n",
            "                                                                 \n",
            " dropout_2 (Dropout)         (None, 32)                0         \n",
            "                                                                 \n",
            " dense_5 (Dense)             (None, 2)                 66        \n",
            "                                                                 \n",
            "=================================================================\n",
            "Total params: 77282 (301.88 KB)\n",
            "Trainable params: 77282 (301.88 KB)\n",
            "Non-trainable params: 0 (0.00 Byte)\n",
            "_________________________________________________________________\n"
          ]
        }
      ],
      "source": [
        "# Now create your model. start with 32 dense relu layers, a dropout layer of 0.5, and a final softmax layer\n",
        "\n",
        "# YOUR CODE HERE\n",
        "#raise NotImplementedError()\n",
        "inputs = keras.Input(shape=(max_tokens, ))\n",
        "x = keras.layers.Dense(32, activation=\"relu\")(inputs)\n",
        "x = keras.layers.Dropout(0.5)(x)\n",
        "outputs = keras.layers.Dense(2, activation=\"softmax\")(x)\n",
        "model = keras.Model(inputs, outputs)\n",
        "model.summary()"
      ]
    },
    {
      "cell_type": "code",
      "execution_count": 68,
      "metadata": {
        "deletable": false,
        "nbgrader": {
          "checksum": "07007d98c76cf4987306051fa690778a",
          "grade": false,
          "grade_id": "cell-bf0c9b489f54a4f1",
          "locked": false,
          "schema_version": 1,
          "solution": true
        },
        "id": "UyS4SKdLMH57"
      },
      "outputs": [],
      "source": [
        "# Compile your model\n",
        "\n",
        "# YOUR CODE HERE\n",
        "#raise NotImplementedError()\n",
        "model.compile(optimizer=\"adam\",\n",
        "              loss=\"categorical_crossentropy\",\n",
        "              metrics=[\"accuracy\"])"
      ]
    },
    {
      "cell_type": "code",
      "execution_count": 69,
      "metadata": {
        "deletable": false,
        "nbgrader": {
          "checksum": "95b5575361496edbb11f0c060a42679a",
          "grade": false,
          "grade_id": "cell-dd0a166873b6f420",
          "locked": false,
          "schema_version": 1,
          "solution": true
        },
        "colab": {
          "base_uri": "https://localhost:8080/"
        },
        "id": "Xro3EZQdMH57",
        "outputId": "f700d2a6-fbd8-4347-e198-2be6176f802f"
      },
      "outputs": [
        {
          "output_type": "stream",
          "name": "stdout",
          "text": [
            "Epoch 1/10\n",
            "1250/1250 [==============================] - 6s 4ms/step - loss: 0.3627 - accuracy: 0.8398 - val_loss: 0.2842 - val_accuracy: 0.8785\n",
            "Epoch 2/10\n",
            "1250/1250 [==============================] - 7s 5ms/step - loss: 0.2824 - accuracy: 0.8835 - val_loss: 0.2845 - val_accuracy: 0.8805\n",
            "Epoch 3/10\n",
            "1250/1250 [==============================] - 5s 4ms/step - loss: 0.2580 - accuracy: 0.8958 - val_loss: 0.2892 - val_accuracy: 0.8787\n",
            "Epoch 4/10\n",
            "1250/1250 [==============================] - 7s 6ms/step - loss: 0.2389 - accuracy: 0.9032 - val_loss: 0.2924 - val_accuracy: 0.8769\n",
            "Epoch 5/10\n",
            "1250/1250 [==============================] - 5s 4ms/step - loss: 0.2236 - accuracy: 0.9112 - val_loss: 0.2999 - val_accuracy: 0.8739\n",
            "Epoch 6/10\n",
            "1250/1250 [==============================] - 5s 4ms/step - loss: 0.2093 - accuracy: 0.9171 - val_loss: 0.3121 - val_accuracy: 0.8751\n",
            "Epoch 7/10\n",
            "1250/1250 [==============================] - 6s 5ms/step - loss: 0.1920 - accuracy: 0.9272 - val_loss: 0.3196 - val_accuracy: 0.8731\n",
            "Epoch 8/10\n",
            "1250/1250 [==============================] - 5s 4ms/step - loss: 0.1795 - accuracy: 0.9310 - val_loss: 0.3373 - val_accuracy: 0.8728\n",
            "Epoch 9/10\n",
            "1250/1250 [==============================] - 7s 5ms/step - loss: 0.1674 - accuracy: 0.9369 - val_loss: 0.3408 - val_accuracy: 0.8729\n",
            "Epoch 10/10\n",
            "1250/1250 [==============================] - 5s 4ms/step - loss: 0.1553 - accuracy: 0.9406 - val_loss: 0.3758 - val_accuracy: 0.8732\n"
          ]
        },
        {
          "output_type": "execute_result",
          "data": {
            "text/plain": [
              "<keras.src.callbacks.History at 0x788d8010bee0>"
            ]
          },
          "metadata": {},
          "execution_count": 69
        }
      ],
      "source": [
        "# YOUR CODE HERE\n",
        "#raise NotImplementedError()\n",
        "model.fit(x=X_train, y=y_train,\n",
        "          validation_data=(X_test, y_test),\n",
        "          epochs=10, batch_size=32)"
      ]
    },
    {
      "cell_type": "code",
      "execution_count": 70,
      "metadata": {
        "deletable": false,
        "nbgrader": {
          "checksum": "d38d17e24c54522e921010e1dabfe031",
          "grade": false,
          "grade_id": "cell-19919983da9eb5f0",
          "locked": false,
          "schema_version": 1,
          "solution": true
        },
        "colab": {
          "base_uri": "https://localhost:8080/"
        },
        "id": "9ewOJRsFMH58",
        "outputId": "dee27e27-0cca-4b7c-ea88-e2ce159bb1bf"
      },
      "outputs": [
        {
          "output_type": "stream",
          "name": "stdout",
          "text": [
            "313/313 [==============================] - 1s 4ms/step - loss: 0.3758 - accuracy: 0.8732\n"
          ]
        },
        {
          "output_type": "execute_result",
          "data": {
            "text/plain": [
              "[0.3757628798484802, 0.873199999332428]"
            ]
          },
          "metadata": {},
          "execution_count": 70
        }
      ],
      "source": [
        "# Evaluate your model. You should be able to get your model to 85% at this point\n",
        "# YOUR CODE HERE\n",
        "#raise NotImplementedError()\n",
        "\n",
        "model.evaluate(x=X_test, y=y_test)"
      ]
    },
    {
      "cell_type": "code",
      "source": [
        "#raw_text_data = tf.convert_to_tensor([[\"This movie was excellent\"],])\n",
        "raw_text_data = tf.convert_to_tensor([[\"This movie was bad\"],])\n",
        "\n",
        "vect_data = text_vectorization(raw_text_data)\n",
        "predictions = model.predict(vect_data)\n",
        "print(predictions)\n",
        "print(f\"{float(predictions[0,0] * 100):.2f} % Negative\")\n",
        "print(f\"{float(predictions[0,1] * 100):.2f} % Positive\")\n"
      ],
      "metadata": {
        "colab": {
          "base_uri": "https://localhost:8080/"
        },
        "id": "isvPYuSK5OL9",
        "outputId": "4631d53f-9afb-45ad-9e37-879ea8482613"
      },
      "execution_count": 87,
      "outputs": [
        {
          "output_type": "stream",
          "name": "stdout",
          "text": [
            "1/1 [==============================] - 0s 22ms/step\n",
            "[[0.97292274 0.02707731]]\n",
            "97.29 % Negative\n",
            "2.71 % Positive\n"
          ]
        }
      ]
    },
    {
      "cell_type": "markdown",
      "metadata": {
        "deletable": false,
        "editable": false,
        "id": "hlSWRoTGqn7Y",
        "nbgrader": {
          "checksum": "f24877faf0501bb073b82d4907dc36b9",
          "grade": false,
          "grade_id": "cell-70a2245e1fd4ffbd",
          "locked": true,
          "schema_version": 1,
          "solution": false
        }
      },
      "source": [
      ]
    },
    {
      "cell_type": "markdown",
      "metadata": {
        "deletable": false,
        "editable": false,
        "id": "zr2zmxTRquGw",
        "nbgrader": {
          "checksum": "46be15ce582c83eb9c3e1016c3657f2f",
          "grade": false,
          "grade_id": "cell-a3569eb3279dc7b1",
          "locked": true,
          "schema_version": 1,
          "solution": false
        }
      },
      "source": [
       
      ]
    },
    {
      "cell_type": "code",
      "execution_count": null,
      "metadata": {
        "deletable": false,
        "id": "72tQJQOWqrxG",
        "nbgrader": {
          "checksum": "bc6d313f23848cca133da79089f248fa",
          "grade": false,
          "grade_id": "cell-d123d80f6d95e712",
          "locked": false,
          "schema_version": 1,
          "solution": true
        }
      },
      "outputs": [],
      "source": [
        "# Begin your model here\n",
        "\n",
        "# YOUR CODE HERE\n",
        "#raise NotImplementedError()"
      ]
    }
  ],
  "metadata": {
    "colab": {
      "provenance": []
    },
    "kernelspec": {
      "display_name": "Python 3",
      "language": "python",
      "name": "python3"
    },
    "language_info": {
      "codemirror_mode": {
        "name": "ipython",
        "version": 3
      },
      "file_extension": ".py",
      "mimetype": "text/x-python",
      "name": "python",
      "nbconvert_exporter": "python",
      "pygments_lexer": "ipython3",
      "version": "3.6.9"
    }
  },
  "nbformat": 4,
  "nbformat_minor": 0
}
